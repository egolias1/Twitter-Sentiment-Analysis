{
 "cells": [
  {
   "cell_type": "code",
   "execution_count": 5,
   "id": "0a0547ce",
   "metadata": {},
   "outputs": [
    {
     "name": "stdout",
     "output_type": "stream",
     "text": [
      "None\n"
     ]
    }
   ],
   "source": [
    "print(s3_access_key)"
   ]
  },
  {
   "cell_type": "code",
   "execution_count": 1,
   "id": "073b68eb",
   "metadata": {},
   "outputs": [],
   "source": [
    "import requests\n",
    "import os\n",
    "import json\n",
    "from minio import Minio\n",
    "import io\n",
    "from dotenv import load_dotenv\n",
    "\n",
    "load_dotenv()  # take environment variables from .env.\n",
    "\n",
    "# To set your enviornment variables in your terminal run the following line:\n",
    "# export 'BEARER_TOKEN'='<your_bearer_token>'\n",
    "bearer_token = os.environ.get(\"TWITTER_BEARER_TOKEN\")\n",
    "\n",
    "def bearer_oauth(r):\n",
    "    \"\"\"\n",
    "    Method required by bearer token authentication.\n",
    "    \"\"\"\n",
    "\n",
    "    r.headers[\"Authorization\"] = f\"Bearer {bearer_token}\"\n",
    "    r.headers[\"User-Agent\"] = \"v2FilteredStreamPython\"\n",
    "    return r\n",
    "\n",
    "\n",
    "def get_rules():\n",
    "    response = requests.get(\n",
    "        \"https://api.twitter.com/2/tweets/search/stream/rules\", auth=bearer_oauth\n",
    "    )\n",
    "    if response.status_code != 200:\n",
    "        raise Exception(\n",
    "            \"Cannot get rules (HTTP {}): {}\".format(response.status_code, response.text)\n",
    "        )\n",
    "    print(json.dumps(response.json()))\n",
    "    return response.json()\n",
    "\n",
    "\n",
    "def delete_all_rules(rules):\n",
    "    if rules is None or \"data\" not in rules:\n",
    "        return None\n",
    "\n",
    "    ids = list(map(lambda rule: rule[\"id\"], rules[\"data\"]))\n",
    "    payload = {\"delete\": {\"ids\": ids}}\n",
    "    response = requests.post(\n",
    "        \"https://api.twitter.com/2/tweets/search/stream/rules\",\n",
    "        auth=bearer_oauth,\n",
    "        json=payload\n",
    "    )\n",
    "    if response.status_code != 200:\n",
    "        raise Exception(\n",
    "            \"Cannot delete rules (HTTP {}): {}\".format(\n",
    "                response.status_code, response.text\n",
    "            )\n",
    "        )\n",
    "    print(json.dumps(response.json()))\n",
    "\n",
    "\n",
    "def set_rules(delete):\n",
    "    # You can adjust the rules if needed\n",
    "    sample_rules = [\n",
    "        {\"value\": \"dog has:images\", \"tag\": \"dog pictures\"},\n",
    "        {\"value\": \"cat has:images -grumpy\", \"tag\": \"cat pictures\"},\n",
    "    ]\n",
    "    payload = {\"add\": sample_rules}\n",
    "    response = requests.post(\n",
    "        \"https://api.twitter.com/2/tweets/search/stream/rules\",\n",
    "        auth=bearer_oauth,\n",
    "        json=payload,\n",
    "    )\n",
    "    if response.status_code != 201:\n",
    "        raise Exception(\n",
    "            \"Cannot add rules (HTTP {}): {}\".format(response.status_code, response.text)\n",
    "        )\n",
    "    print(json.dumps(response.json()))\n",
    "\n",
    "\n",
    "def get_stream(set):\n",
    "    response = requests.get(\n",
    "        \"https://api.twitter.com/2/tweets/search/stream\", auth=bearer_oauth, stream=True,\n",
    "    )\n",
    "    print(response.status_code)\n",
    "    if response.status_code != 200:\n",
    "        raise Exception(\n",
    "            \"Cannot get stream (HTTP {}): {}\".format(\n",
    "                response.status_code, response.text\n",
    "            )\n",
    "        )\n",
    "    i = 0\n",
    "    for response_line in response.iter_lines():\n",
    "        if response_line:\n",
    "            json_response = json.loads(response_line)\n",
    "            formatted = json.dumps(json_response, indent=4, sort_keys=True)\n",
    "            print(formatted)\n",
    "            s3_client.put_object(bucket, f\"test_tweets/{i}.json\", io.BytesIO(bytes(formatted, \"utf-8\")), len(formatted))\n",
    "\n"
   ]
  },
  {
   "cell_type": "code",
   "execution_count": 2,
   "id": "d547f44a",
   "metadata": {},
   "outputs": [],
   "source": [
    "s3_access_key = os.environ.get(\"S3_ACCESS_KEY\")\n",
    "s3_secret_key = os.environ.get(\"S3_SECRET_KEY\")\n",
    "bucket = \"twitter-data-123456\"\n",
    "s3_client = Minio(\"storage.googleapis.com\", access_key=s3_access_key, secret_key=s3_secret_key)"
   ]
  },
  {
   "cell_type": "code",
   "execution_count": 3,
   "id": "75481a26",
   "metadata": {},
   "outputs": [
    {
     "name": "stdout",
     "output_type": "stream",
     "text": [
      "{\"data\": [{\"id\": \"1486190908278247426\", \"value\": \"cat has:images -grumpy\", \"tag\": \"cat pictures\"}, {\"id\": \"1486190908278247427\", \"value\": \"dog has:images\", \"tag\": \"dog pictures\"}], \"meta\": {\"sent\": \"2022-01-26T04:28:21.533Z\", \"result_count\": 2}}\n",
      "{\"meta\": {\"sent\": \"2022-01-26T04:28:22.759Z\", \"summary\": {\"deleted\": 2, \"not_deleted\": 0}}}\n",
      "{\"data\": [{\"value\": \"cat has:images -grumpy\", \"tag\": \"cat pictures\", \"id\": \"1486194281715056640\"}, {\"value\": \"dog has:images\", \"tag\": \"dog pictures\", \"id\": \"1486194281715056641\"}], \"meta\": {\"sent\": \"2022-01-26T04:28:24.989Z\", \"summary\": {\"created\": 2, \"not_created\": 0, \"valid\": 2, \"invalid\": 0}}}\n"
     ]
    }
   ],
   "source": [
    "rules = get_rules()\n",
    "delete = delete_all_rules(rules)\n",
    "set = set_rules(delete)"
   ]
  },
  {
   "cell_type": "code",
   "execution_count": 4,
   "id": "f19c8e16",
   "metadata": {},
   "outputs": [
    {
     "name": "stdout",
     "output_type": "stream",
     "text": [
      "200\n",
      "{\n",
      "    \"data\": {\n",
      "        \"id\": \"1486194257320841217\",\n",
      "        \"text\": \"\\u306a\\u3093\\u3067\\u7121\\u96e3\\u3067\\u96d1\\u306a\\u8fd4\\u7b54\\u3092\\n\\u5dee\\u3057\\u8fbc\\u3080\\u306a\\u3069\\u3059\\u308b\\n(\\u30c9\\u30fc\\u30d9\\u30eb\\u306f\\u5c02\\u9580\\u5916\\u306a\\u3093\\u3060\\u3088\\u7533\\u3057\\u8a33\\u306a\\u3044\\u3051\\u3069\\u3055\\u3042) https://t.co/lR4eg7RheH\"\n",
      "    },\n",
      "    \"matching_rules\": [\n",
      "        {\n",
      "            \"id\": \"1486194281715056640\",\n",
      "            \"tag\": \"cat pictures\"\n",
      "        }\n",
      "    ]\n",
      "}\n"
     ]
    },
    {
     "ename": "S3Error",
     "evalue": "S3 operation failed; code: AccessDenied, message: Access denied., resource: None, request_id: None, host_id: None",
     "output_type": "error",
     "traceback": [
      "\u001b[0;31m---------------------------------------------------------------------------\u001b[0m",
      "\u001b[0;31mS3Error\u001b[0m                                   Traceback (most recent call last)",
      "Input \u001b[0;32mIn [4]\u001b[0m, in \u001b[0;36m<module>\u001b[0;34m\u001b[0m\n\u001b[0;32m----> 1\u001b[0m \u001b[43mget_stream\u001b[49m\u001b[43m(\u001b[49m\u001b[38;5;28;43mset\u001b[39;49m\u001b[43m)\u001b[49m\n",
      "Input \u001b[0;32mIn [1]\u001b[0m, in \u001b[0;36mget_stream\u001b[0;34m(set)\u001b[0m\n\u001b[1;32m     90\u001b[0m formatted \u001b[38;5;241m=\u001b[39m json\u001b[38;5;241m.\u001b[39mdumps(json_response, indent\u001b[38;5;241m=\u001b[39m\u001b[38;5;241m4\u001b[39m, sort_keys\u001b[38;5;241m=\u001b[39m\u001b[38;5;28;01mTrue\u001b[39;00m)\n\u001b[1;32m     91\u001b[0m \u001b[38;5;28mprint\u001b[39m(formatted)\n\u001b[0;32m---> 92\u001b[0m \u001b[43ms3_client\u001b[49m\u001b[38;5;241;43m.\u001b[39;49m\u001b[43mput_object\u001b[49m\u001b[43m(\u001b[49m\u001b[43mbucket\u001b[49m\u001b[43m,\u001b[49m\u001b[43m \u001b[49m\u001b[38;5;124;43mf\u001b[39;49m\u001b[38;5;124;43m\"\u001b[39;49m\u001b[38;5;124;43mtest_tweets/\u001b[39;49m\u001b[38;5;132;43;01m{\u001b[39;49;00m\u001b[43mi\u001b[49m\u001b[38;5;132;43;01m}\u001b[39;49;00m\u001b[38;5;124;43m.json\u001b[39;49m\u001b[38;5;124;43m\"\u001b[39;49m\u001b[43m,\u001b[49m\u001b[43m \u001b[49m\u001b[43mio\u001b[49m\u001b[38;5;241;43m.\u001b[39;49m\u001b[43mBytesIO\u001b[49m\u001b[43m(\u001b[49m\u001b[38;5;28;43mbytes\u001b[39;49m\u001b[43m(\u001b[49m\u001b[43mformatted\u001b[49m\u001b[43m,\u001b[49m\u001b[43m \u001b[49m\u001b[38;5;124;43m\"\u001b[39;49m\u001b[38;5;124;43mutf-8\u001b[39;49m\u001b[38;5;124;43m\"\u001b[39;49m\u001b[43m)\u001b[49m\u001b[43m)\u001b[49m\u001b[43m,\u001b[49m\u001b[43m \u001b[49m\u001b[38;5;28;43mlen\u001b[39;49m\u001b[43m(\u001b[49m\u001b[43mformatted\u001b[49m\u001b[43m)\u001b[49m\u001b[43m)\u001b[49m\n",
      "File \u001b[0;32m~/Documents/QuantFinance/Twitter-Sentiment-Analysis/venv/lib/python3.9/site-packages/minio/api.py:1758\u001b[0m, in \u001b[0;36mMinio.put_object\u001b[0;34m(self, bucket_name, object_name, data, length, content_type, metadata, sse, progress, part_size, num_parallel_uploads, tags, retention, legal_hold)\u001b[0m\n\u001b[1;32m   1754\u001b[0m \u001b[38;5;28;01mif\u001b[39;00m upload_id:\n\u001b[1;32m   1755\u001b[0m     \u001b[38;5;28mself\u001b[39m\u001b[38;5;241m.\u001b[39m_abort_multipart_upload(\n\u001b[1;32m   1756\u001b[0m         bucket_name, object_name, upload_id,\n\u001b[1;32m   1757\u001b[0m     )\n\u001b[0;32m-> 1758\u001b[0m \u001b[38;5;28;01mraise\u001b[39;00m exc\n",
      "File \u001b[0;32m~/Documents/QuantFinance/Twitter-Sentiment-Analysis/venv/lib/python3.9/site-packages/minio/api.py:1712\u001b[0m, in \u001b[0;36mMinio.put_object\u001b[0;34m(self, bucket_name, object_name, data, length, content_type, metadata, sse, progress, part_size, num_parallel_uploads, tags, retention, legal_hold)\u001b[0m\n\u001b[1;32m   1709\u001b[0m uploaded_size \u001b[38;5;241m+\u001b[39m\u001b[38;5;241m=\u001b[39m \u001b[38;5;28mlen\u001b[39m(part_data)\n\u001b[1;32m   1711\u001b[0m \u001b[38;5;28;01mif\u001b[39;00m part_count \u001b[38;5;241m==\u001b[39m \u001b[38;5;241m1\u001b[39m:\n\u001b[0;32m-> 1712\u001b[0m     \u001b[38;5;28;01mreturn\u001b[39;00m \u001b[38;5;28;43mself\u001b[39;49m\u001b[38;5;241;43m.\u001b[39;49m\u001b[43m_put_object\u001b[49m\u001b[43m(\u001b[49m\n\u001b[1;32m   1713\u001b[0m \u001b[43m        \u001b[49m\u001b[43mbucket_name\u001b[49m\u001b[43m,\u001b[49m\u001b[43m \u001b[49m\u001b[43mobject_name\u001b[49m\u001b[43m,\u001b[49m\u001b[43m \u001b[49m\u001b[43mpart_data\u001b[49m\u001b[43m,\u001b[49m\u001b[43m \u001b[49m\u001b[43mheaders\u001b[49m\u001b[43m,\u001b[49m\n\u001b[1;32m   1714\u001b[0m \u001b[43m    \u001b[49m\u001b[43m)\u001b[49m\n\u001b[1;32m   1716\u001b[0m \u001b[38;5;28;01mif\u001b[39;00m \u001b[38;5;129;01mnot\u001b[39;00m upload_id:\n\u001b[1;32m   1717\u001b[0m     upload_id \u001b[38;5;241m=\u001b[39m \u001b[38;5;28mself\u001b[39m\u001b[38;5;241m.\u001b[39m_create_multipart_upload(\n\u001b[1;32m   1718\u001b[0m         bucket_name, object_name, headers,\n\u001b[1;32m   1719\u001b[0m     )\n",
      "File \u001b[0;32m~/Documents/QuantFinance/Twitter-Sentiment-Analysis/venv/lib/python3.9/site-packages/minio/api.py:1570\u001b[0m, in \u001b[0;36mMinio._put_object\u001b[0;34m(self, bucket_name, object_name, data, headers, query_params)\u001b[0m\n\u001b[1;32m   1567\u001b[0m \u001b[38;5;28;01mdef\u001b[39;00m \u001b[38;5;21m_put_object\u001b[39m(\u001b[38;5;28mself\u001b[39m, bucket_name, object_name, data, headers,\n\u001b[1;32m   1568\u001b[0m                 query_params\u001b[38;5;241m=\u001b[39m\u001b[38;5;28;01mNone\u001b[39;00m):\n\u001b[1;32m   1569\u001b[0m     \u001b[38;5;124;03m\"\"\"Execute PutObject S3 API.\"\"\"\u001b[39;00m\n\u001b[0;32m-> 1570\u001b[0m     response \u001b[38;5;241m=\u001b[39m \u001b[38;5;28;43mself\u001b[39;49m\u001b[38;5;241;43m.\u001b[39;49m\u001b[43m_execute\u001b[49m\u001b[43m(\u001b[49m\n\u001b[1;32m   1571\u001b[0m \u001b[43m        \u001b[49m\u001b[38;5;124;43m\"\u001b[39;49m\u001b[38;5;124;43mPUT\u001b[39;49m\u001b[38;5;124;43m\"\u001b[39;49m\u001b[43m,\u001b[49m\n\u001b[1;32m   1572\u001b[0m \u001b[43m        \u001b[49m\u001b[43mbucket_name\u001b[49m\u001b[43m,\u001b[49m\n\u001b[1;32m   1573\u001b[0m \u001b[43m        \u001b[49m\u001b[43mobject_name\u001b[49m\u001b[43m,\u001b[49m\n\u001b[1;32m   1574\u001b[0m \u001b[43m        \u001b[49m\u001b[43mbody\u001b[49m\u001b[38;5;241;43m=\u001b[39;49m\u001b[43mdata\u001b[49m\u001b[43m,\u001b[49m\n\u001b[1;32m   1575\u001b[0m \u001b[43m        \u001b[49m\u001b[43mheaders\u001b[49m\u001b[38;5;241;43m=\u001b[39;49m\u001b[43mheaders\u001b[49m\u001b[43m,\u001b[49m\n\u001b[1;32m   1576\u001b[0m \u001b[43m        \u001b[49m\u001b[43mquery_params\u001b[49m\u001b[38;5;241;43m=\u001b[39;49m\u001b[43mquery_params\u001b[49m\u001b[43m,\u001b[49m\n\u001b[1;32m   1577\u001b[0m \u001b[43m        \u001b[49m\u001b[43mno_body_trace\u001b[49m\u001b[38;5;241;43m=\u001b[39;49m\u001b[38;5;28;43;01mTrue\u001b[39;49;00m\u001b[43m,\u001b[49m\n\u001b[1;32m   1578\u001b[0m \u001b[43m    \u001b[49m\u001b[43m)\u001b[49m\n\u001b[1;32m   1579\u001b[0m     \u001b[38;5;28;01mreturn\u001b[39;00m ObjectWriteResult(\n\u001b[1;32m   1580\u001b[0m         bucket_name,\n\u001b[1;32m   1581\u001b[0m         object_name,\n\u001b[0;32m   (...)\u001b[0m\n\u001b[1;32m   1584\u001b[0m         response\u001b[38;5;241m.\u001b[39mgetheaders(),\n\u001b[1;32m   1585\u001b[0m     )\n",
      "File \u001b[0;32m~/Documents/QuantFinance/Twitter-Sentiment-Analysis/venv/lib/python3.9/site-packages/minio/api.py:397\u001b[0m, in \u001b[0;36mMinio._execute\u001b[0;34m(self, method, bucket_name, object_name, body, headers, query_params, preload_content, no_body_trace)\u001b[0m\n\u001b[1;32m    394\u001b[0m region \u001b[38;5;241m=\u001b[39m \u001b[38;5;28mself\u001b[39m\u001b[38;5;241m.\u001b[39m_get_region(bucket_name, \u001b[38;5;28;01mNone\u001b[39;00m)\n\u001b[1;32m    396\u001b[0m \u001b[38;5;28;01mtry\u001b[39;00m:\n\u001b[0;32m--> 397\u001b[0m     \u001b[38;5;28;01mreturn\u001b[39;00m \u001b[38;5;28;43mself\u001b[39;49m\u001b[38;5;241;43m.\u001b[39;49m\u001b[43m_url_open\u001b[49m\u001b[43m(\u001b[49m\n\u001b[1;32m    398\u001b[0m \u001b[43m        \u001b[49m\u001b[43mmethod\u001b[49m\u001b[43m,\u001b[49m\n\u001b[1;32m    399\u001b[0m \u001b[43m        \u001b[49m\u001b[43mregion\u001b[49m\u001b[43m,\u001b[49m\n\u001b[1;32m    400\u001b[0m \u001b[43m        \u001b[49m\u001b[43mbucket_name\u001b[49m\u001b[38;5;241;43m=\u001b[39;49m\u001b[43mbucket_name\u001b[49m\u001b[43m,\u001b[49m\n\u001b[1;32m    401\u001b[0m \u001b[43m        \u001b[49m\u001b[43mobject_name\u001b[49m\u001b[38;5;241;43m=\u001b[39;49m\u001b[43mobject_name\u001b[49m\u001b[43m,\u001b[49m\n\u001b[1;32m    402\u001b[0m \u001b[43m        \u001b[49m\u001b[43mbody\u001b[49m\u001b[38;5;241;43m=\u001b[39;49m\u001b[43mbody\u001b[49m\u001b[43m,\u001b[49m\n\u001b[1;32m    403\u001b[0m \u001b[43m        \u001b[49m\u001b[43mheaders\u001b[49m\u001b[38;5;241;43m=\u001b[39;49m\u001b[43mheaders\u001b[49m\u001b[43m,\u001b[49m\n\u001b[1;32m    404\u001b[0m \u001b[43m        \u001b[49m\u001b[43mquery_params\u001b[49m\u001b[38;5;241;43m=\u001b[39;49m\u001b[43mquery_params\u001b[49m\u001b[43m,\u001b[49m\n\u001b[1;32m    405\u001b[0m \u001b[43m        \u001b[49m\u001b[43mpreload_content\u001b[49m\u001b[38;5;241;43m=\u001b[39;49m\u001b[43mpreload_content\u001b[49m\u001b[43m,\u001b[49m\n\u001b[1;32m    406\u001b[0m \u001b[43m        \u001b[49m\u001b[43mno_body_trace\u001b[49m\u001b[38;5;241;43m=\u001b[39;49m\u001b[43mno_body_trace\u001b[49m\u001b[43m,\u001b[49m\n\u001b[1;32m    407\u001b[0m \u001b[43m    \u001b[49m\u001b[43m)\u001b[49m\n\u001b[1;32m    408\u001b[0m \u001b[38;5;28;01mexcept\u001b[39;00m S3Error \u001b[38;5;28;01mas\u001b[39;00m exc:\n\u001b[1;32m    409\u001b[0m     \u001b[38;5;28;01mif\u001b[39;00m exc\u001b[38;5;241m.\u001b[39mcode \u001b[38;5;241m!=\u001b[39m \u001b[38;5;124m\"\u001b[39m\u001b[38;5;124mRetryHead\u001b[39m\u001b[38;5;124m\"\u001b[39m:\n",
      "File \u001b[0;32m~/Documents/QuantFinance/Twitter-Sentiment-Analysis/venv/lib/python3.9/site-packages/minio/api.py:380\u001b[0m, in \u001b[0;36mMinio._url_open\u001b[0;34m(self, method, region, bucket_name, object_name, body, headers, query_params, preload_content, no_body_trace)\u001b[0m\n\u001b[1;32m    377\u001b[0m \u001b[38;5;28;01mif\u001b[39;00m response_error\u001b[38;5;241m.\u001b[39mcode \u001b[38;5;129;01min\u001b[39;00m [\u001b[38;5;124m\"\u001b[39m\u001b[38;5;124mNoSuchBucket\u001b[39m\u001b[38;5;124m\"\u001b[39m, \u001b[38;5;124m\"\u001b[39m\u001b[38;5;124mRetryHead\u001b[39m\u001b[38;5;124m\"\u001b[39m]:\n\u001b[1;32m    378\u001b[0m     \u001b[38;5;28mself\u001b[39m\u001b[38;5;241m.\u001b[39m_region_map\u001b[38;5;241m.\u001b[39mpop(bucket_name, \u001b[38;5;28;01mNone\u001b[39;00m)\n\u001b[0;32m--> 380\u001b[0m \u001b[38;5;28;01mraise\u001b[39;00m response_error\n",
      "\u001b[0;31mS3Error\u001b[0m: S3 operation failed; code: AccessDenied, message: Access denied., resource: None, request_id: None, host_id: None"
     ]
    }
   ],
   "source": [
    "get_stream(set)"
   ]
  },
  {
   "cell_type": "code",
   "execution_count": null,
   "id": "c5b948cc",
   "metadata": {},
   "outputs": [],
   "source": []
  }
 ],
 "metadata": {
  "kernelspec": {
   "display_name": "venv",
   "language": "python",
   "name": "venv"
  },
  "language_info": {
   "codemirror_mode": {
    "name": "ipython",
    "version": 3
   },
   "file_extension": ".py",
   "mimetype": "text/x-python",
   "name": "python",
   "nbconvert_exporter": "python",
   "pygments_lexer": "ipython3",
   "version": "3.9.9"
  }
 },
 "nbformat": 4,
 "nbformat_minor": 5
}
