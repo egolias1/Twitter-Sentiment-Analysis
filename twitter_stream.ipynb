{
 "cells": [
  {
   "cell_type": "code",
   "execution_count": 11,
   "id": "73267995",
   "metadata": {},
   "outputs": [],
   "source": [
    "BATCH_SIZE = 1000\n",
    "PREFIX = \"test_tweets_2\""
   ]
  },
  {
   "cell_type": "code",
   "execution_count": 12,
   "id": "073b68eb",
   "metadata": {},
   "outputs": [],
   "source": [
    "import requests\n",
    "import os\n",
    "import json\n",
    "from minio import Minio\n",
    "import io\n",
    "from dotenv import load_dotenv\n",
    "from tqdm import tqdm\n",
    "\n",
    "load_dotenv()  # take environment variables from .env.\n",
    "\n",
    "# To set your enviornment variables in your terminal run the following line:\n",
    "# export 'BEARER_TOKEN'='<your_bearer_token>'\n",
    "bearer_token = os.environ.get(\"TWITTER_BEARER_TOKEN\")\n",
    "\n",
    "def bearer_oauth(r):\n",
    "    \"\"\"\n",
    "    Method required by bearer token authentication.\n",
    "    \"\"\"\n",
    "\n",
    "    r.headers[\"Authorization\"] = f\"Bearer {bearer_token}\"\n",
    "    r.headers[\"User-Agent\"] = \"v2FilteredStreamPython\"\n",
    "    return r\n",
    "\n",
    "\n",
    "def get_rules():\n",
    "    response = requests.get(\n",
    "        \"https://api.twitter.com/2/tweets/search/stream/rules\", auth=bearer_oauth\n",
    "    )\n",
    "    if response.status_code != 200:\n",
    "        raise Exception(\n",
    "            \"Cannot get rules (HTTP {}): {}\".format(response.status_code, response.text)\n",
    "        )\n",
    "    print(json.dumps(response.json()))\n",
    "    return response.json()\n",
    "\n",
    "\n",
    "def delete_all_rules(rules):\n",
    "    if rules is None or \"data\" not in rules:\n",
    "        return None\n",
    "\n",
    "    ids = list(map(lambda rule: rule[\"id\"], rules[\"data\"]))\n",
    "    payload = {\"delete\": {\"ids\": ids}}\n",
    "    response = requests.post(\n",
    "        \"https://api.twitter.com/2/tweets/search/stream/rules\",\n",
    "        auth=bearer_oauth,\n",
    "        json=payload\n",
    "    )\n",
    "    if response.status_code != 200:\n",
    "        raise Exception(\n",
    "            \"Cannot delete rules (HTTP {}): {}\".format(\n",
    "                response.status_code, response.text\n",
    "            )\n",
    "        )\n",
    "    print(json.dumps(response.json()))\n",
    "\n",
    "\n",
    "def set_rules(delete):\n",
    "    # You can adjust the rules if needed\n",
    "    ETH_search_rules = [\n",
    "        {\n",
    "            \"value\": \"#ETH OR #ethereum OR #eth\"\n",
    "        },\n",
    "    ]\n",
    "    payload = {\"add\": ETH_search_rules}\n",
    "    response = requests.post(\n",
    "        \"https://api.twitter.com/2/tweets/search/stream/rules\",\n",
    "        auth=bearer_oauth,\n",
    "        json=payload,\n",
    "    )\n",
    "    if response.status_code != 201:\n",
    "        raise Exception(\n",
    "            \"Cannot add rules (HTTP {}): {}\".format(response.status_code, response.text)\n",
    "        )\n",
    "    print(json.dumps(response.json()))\n",
    "\n",
    "def get_stream(set):\n",
    "    response = requests.get(\n",
    "        \"https://api.twitter.com/2/tweets/search/stream\", auth=bearer_oauth, stream=True,\n",
    "    )\n",
    "    print(response)\n",
    "    print(response.status_code)\n",
    "    if response.status_code != 200:\n",
    "        raise Exception(\n",
    "            \"Cannot get stream (HTTP {}): {}\".format(\n",
    "                response.status_code, response.text\n",
    "            )\n",
    "        )\n",
    "    i = 0\n",
    "    batch = []\n",
    "    with tqdm(total=BATCH_SIZE) as pbar:\n",
    "        for response_line in response.iter_lines():\n",
    "            if response_line:\n",
    "                response = json.loads(response_line)\n",
    "                batch.append(response)\n",
    "                pbar.update(1)\n",
    "                if len(batch) >= BATCH_SIZE:\n",
    "                    file_name = f\"{PREFIX}/{i: <8}.json\"\n",
    "                    formatted = json.dumps(batch, indent=4, sort_keys=True)\n",
    "                    pbar.set_description(f\"saving {len(batch)} tweets as {file_name}\")\n",
    "                    s3_client.put_object(bucket, f\"{file_name}\", io.BytesIO(bytes(formatted, \"utf-8\")), len(formatted))\n",
    "                    pbar.set_description(f\"saved {file_name}\")\n",
    "                    i = i + 1\n",
    "                    pbar.reset()\n",
    "                    batch = []"
   ]
  },
  {
   "cell_type": "code",
   "execution_count": 13,
   "id": "d547f44a",
   "metadata": {},
   "outputs": [],
   "source": [
    "s3_access_key = os.environ.get(\"S3_ACCESS_KEY\")\n",
    "s3_secret_key = os.environ.get(\"S3_SECRET_KEY\")\n",
    "bucket = \"twitter-data-123456\"\n",
    "s3_client = Minio(\"storage.googleapis.com\", access_key=s3_access_key, secret_key=s3_secret_key)"
   ]
  },
  {
   "cell_type": "code",
   "execution_count": 14,
   "id": "75481a26",
   "metadata": {},
   "outputs": [
    {
     "name": "stdout",
     "output_type": "stream",
     "text": [
      "{\"data\": [{\"id\": \"1488682940921835521\", \"value\": \"#ETH OR #ethereum OR #eth\"}], \"meta\": {\"sent\": \"2022-02-02T01:56:32.439Z\", \"result_count\": 1}}\n",
      "{\"meta\": {\"sent\": \"2022-02-02T01:56:32.754Z\", \"summary\": {\"deleted\": 1, \"not_deleted\": 0}}}\n",
      "{\"data\": [{\"value\": \"#ETH OR #ethereum OR #eth\", \"id\": \"1488692784269697024\"}], \"meta\": {\"sent\": \"2022-02-02T01:56:33.040Z\", \"summary\": {\"created\": 1, \"not_created\": 0, \"valid\": 1, \"invalid\": 0}}}\n"
     ]
    }
   ],
   "source": [
    "rules = get_rules()\n",
    "delete = delete_all_rules(rules)\n",
    "set = set_rules(delete)"
   ]
  },
  {
   "cell_type": "code",
   "execution_count": null,
   "id": "f19c8e16",
   "metadata": {},
   "outputs": [
    {
     "name": "stdout",
     "output_type": "stream",
     "text": [
      "<Response [200]>\n",
      "200\n"
     ]
    },
    {
     "name": "stderr",
     "output_type": "stream",
     "text": [
      "saved test_tweets_2/0       .json:  78%|███████████████████████████████████████████████████████████████▍                 | 783/1000 [01:42<00:20, 10.65it/s]"
     ]
    }
   ],
   "source": [
    "get_stream(set)"
   ]
  },
  {
   "cell_type": "code",
   "execution_count": null,
   "id": "416db71f",
   "metadata": {},
   "outputs": [],
   "source": []
  }
 ],
 "metadata": {
  "kernelspec": {
   "display_name": "venv",
   "language": "python",
   "name": "venv"
  },
  "language_info": {
   "codemirror_mode": {
    "name": "ipython",
    "version": 3
   },
   "file_extension": ".py",
   "mimetype": "text/x-python",
   "name": "python",
   "nbconvert_exporter": "python",
   "pygments_lexer": "ipython3",
   "version": "3.10.2"
  }
 },
 "nbformat": 4,
 "nbformat_minor": 5
}
