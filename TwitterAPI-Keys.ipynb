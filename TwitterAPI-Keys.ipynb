{
 "cells": [
  {
   "cell_type": "code",
   "execution_count": null,
   "id": "6c433eec",
   "metadata": {},
   "outputs": [],
   "source": [
    "consumer_key = \"9C2MLZth4Rn2crdZNSGf9J4tW\"\n",
    "consumer_secret = \"tAVbrjYhIrvYmJaQ4BaICsrEeeDaVuH2lJ0tjBSdCCtUcWwQKS\""
   ]
  },
  {
   "cell_type": "code",
   "execution_count": null,
   "id": "c63280c1",
   "metadata": {},
   "outputs": [],
   "source": []
  }
 ],
 "metadata": {
  "kernelspec": {
   "display_name": "Python 3 (ipykernel)",
   "language": "python",
   "name": "python3"
  }
 },
 "nbformat": 4,
 "nbformat_minor": 5
}
